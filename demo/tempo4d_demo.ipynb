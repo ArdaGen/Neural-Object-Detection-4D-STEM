{
 "cells": [
  {
   "cell_type": "markdown",
   "id": "d0aa395b-7f57-427b-aea4-ea2a3cf9a3c9",
   "metadata": {},
   "source": [
    "# tempo4D \n",
    "## Transmission electron microscope pattern observation - 4D\n",
    "##### Specific requirements : torch (CUDA), ultralytics, rosettasciio,tempo4d"
   ]
  },
  {
   "cell_type": "code",
   "execution_count": 1,
   "id": "1ae69058-328d-4799-84a0-605c51878b6d",
   "metadata": {},
   "outputs": [],
   "source": [
    "%matplotlib qt\n",
    "from tempo4d import DataManager, DataProcessor, load, save_data, load_data, pad_images"
   ]
  },
  {
   "cell_type": "markdown",
   "id": "43f2cd6f-8376-434c-a08e-b42f189ecf23",
   "metadata": {},
   "source": [
    "## Load 4D-STEM data\n",
    "##### Supported file formats emi, dm3, dm4, de5, xml and hdf5"
   ]
  },
  {
   "cell_type": "code",
   "execution_count": 2,
   "id": "3aac499d-f0b3-4a18-ab2b-6f52c2c89c11",
   "metadata": {},
   "outputs": [
    {
     "name": "stdout",
     "output_type": "stream",
     "text": [
      "Data shape : (128, 128, 256, 256)\n",
      "Pixel size (nm) : 0.173\n"
     ]
    }
   ],
   "source": [
    "path = r\"\\pathtodata\"\n",
    "data, pixel_size = load(path)\n",
    "processor = DataProcessor(data, pixel_size=pixel_size, path_to_image=\"example.png\")"
   ]
  },
  {
   "cell_type": "markdown",
   "id": "a2cb90ca-6938-4968-87ab-5fc900b2051b",
   "metadata": {},
   "source": [
    "##### Pad diffraction patterns to 512x512 pixels for YOLO detection (optional)"
   ]
  },
  {
   "cell_type": "code",
   "execution_count": 3,
   "id": "b9f5b46c-6dd2-4c52-9a15-3ec69fa1d0a8",
   "metadata": {},
   "outputs": [],
   "source": [
    "padded = pad_images(data, target_shape=(512, 512))\n",
    "processor = DataProcessor(padded, pixel_size=pixel_size, path_to_image=\"example.png\")"
   ]
  },
  {
   "cell_type": "markdown",
   "id": "511acc96-41f1-4295-a3c7-0f4bd8606ead",
   "metadata": {},
   "source": [
    "## Generate Virtual STEM Image \n",
    "##### Currently uses the center of the diffraction patterns for virtual bright-field (BF) imaging"
   ]
  },
  {
   "cell_type": "code",
   "execution_count": 4,
   "id": "09962cf3-8e6d-47e0-8629-bd6c2941f61e",
   "metadata": {},
   "outputs": [],
   "source": [
    "bf_image = processor.generate_bf_image(disk_size=20)"
   ]
  },
  {
   "cell_type": "markdown",
   "id": "7ba0f5fa-7615-4dd3-ba67-0ea129117745",
   "metadata": {},
   "source": [
    "## Test NDPD\n",
    "##### Test object detection on a single electron diffraction pattern"
   ]
  },
  {
   "cell_type": "code",
   "execution_count": 5,
   "id": "5e432831-24fb-426e-b6ee-5391f44390b8",
   "metadata": {},
   "outputs": [],
   "source": [
    "coords = processor.run_object_detection(\n",
    "    i = 15,\n",
    "    j = 12,\n",
    "    normalize2 = 100,\n",
    "    img_size = 512, \n",
    "    conf_score = 0.1,\n",
    "    radius = 1, \n",
    "    neighbours = 8\n",
    ")"
   ]
  },
  {
   "cell_type": "markdown",
   "id": "fbb03797-043f-4762-bf11-1d3a377c0855",
   "metadata": {},
   "source": [
    "## Process 4D-STEM\n",
    "##### Realtime plotting of the displacement map for given h index"
   ]
  },
  {
   "cell_type": "code",
   "execution_count": 6,
   "id": "9f896660-57c0-4cb1-b630-77fab0cf3279",
   "metadata": {},
   "outputs": [
    {
     "name": "stdout",
     "output_type": "stream",
     "text": [
      "Total time to complete plot: 65.27 seconds\n"
     ]
    }
   ],
   "source": [
    "data_strain, angles = processor.launch_realtime_plot(\n",
    "    image_size = 512, \n",
    "    h = 2,\n",
    "    normalize = 100, \n",
    "    neighbours = 8,\n",
    "    conf = 0.1, \n",
    "    batch_size = 64\n",
    ")"
   ]
  },
  {
   "cell_type": "markdown",
   "id": "3ceb14d3-6fcc-4440-bcf9-9efbd3f43804",
   "metadata": {},
   "source": [
    "## Analyze 4D-STEM Data \n",
    "##### Please refer to Test NDPD step for indexing of the Bragg discs"
   ]
  },
  {
   "cell_type": "code",
   "execution_count": 7,
   "id": "fdad4598-83d0-432c-9355-4d37e2862804",
   "metadata": {},
   "outputs": [
    {
     "name": "stdout",
     "output_type": "stream",
     "text": [
      "ROI selected from (60, 95) to (93, 120)\n",
      "new a0: 0.23749, b0: 0.23367, c0: 0.16738\n",
      "New ROI selected from (81, 31) to (101, 117)\n",
      "Precision Exx: 4.0e-03\n",
      "Precision Eyy: 1.8e-03\n",
      "Precision Exy: 1.8e-03\n",
      "Line profiles exported to: C:\\Users\\ardag\\OneDrive\\Desktop\\DiffDetect\\notebook\\strain_line_profiles.csv\n"
     ]
    }
   ],
   "source": [
    "processor.postprocess_strain(h = 0, \n",
    "                             k = 2, \n",
    "                             hk = 4, \n",
    "                             rotation = 0,\n",
    "                             axis_parm = 1)"
   ]
  },
  {
   "cell_type": "markdown",
   "id": "706f7d6c-2b14-4918-b477-c239eebdd4b9",
   "metadata": {},
   "source": [
    "## Save Results\n",
    "##### Save object detection results in .txt format (nearest neighbor distances and Bragg angles)"
   ]
  },
  {
   "cell_type": "code",
   "execution_count": 8,
   "id": "7b1b1784-4b0c-4d25-aafa-79ce866d6bf6",
   "metadata": {},
   "outputs": [],
   "source": [
    "filename =  r\"\\pathtodata\\.txt\"\n",
    "save_data(filename, data_strain, angles)"
   ]
  },
  {
   "cell_type": "markdown",
   "id": "591b1504-04c5-4af7-ab5e-56cfcd35c6f8",
   "metadata": {},
   "source": [
    "## Load Results\n",
    "##### Load object detection results in .txt format (nearest neighbor distances and Bragg angles)"
   ]
  },
  {
   "cell_type": "code",
   "execution_count": 9,
   "id": "ac4aa888-a3db-4826-bf6a-cb133c1e004f",
   "metadata": {},
   "outputs": [
    {
     "name": "stdout",
     "output_type": "stream",
     "text": [
      "Loaded distances shape: (128, 128, 8)\n",
      "Loaded angles shape: (128, 128, 8)\n"
     ]
    }
   ],
   "source": [
    "txt_path = r\"\\pathtodata\\.txt\"\n",
    "strain_load, angles_load =load_data(txt_path)"
   ]
  },
  {
   "cell_type": "markdown",
   "id": "0335360d-691b-4b0c-9279-71384f163046",
   "metadata": {},
   "source": [
    "## Analyze 4D-STEM Data "
   ]
  },
  {
   "cell_type": "code",
   "execution_count": 10,
   "id": "8cca2cc9-cbdd-4795-864d-cb30f95d7372",
   "metadata": {},
   "outputs": [
    {
     "name": "stdout",
     "output_type": "stream",
     "text": [
      "ROI selected from (72, 99) to (91, 117)\n",
      "new a0: 0.16729, b0: 0.16474, c0: 0.23720\n"
     ]
    }
   ],
   "source": [
    "processor = DataProcessor(\n",
    "    pixel_size = pixel_size,\n",
    "    path_to_image=\"LargeFOV_scan.jpg\",\n",
    "    nearest_distance_values = strain_load,\n",
    "    angles = angles_load\n",
    ")\n",
    "\n",
    "processor.postprocess_strain(h = 0,\n",
    "                             k = 2,\n",
    "                             hk = 4,\n",
    "                             rotation = 0,\n",
    "                             axis_parm = 1)"
   ]
  },
  {
   "cell_type": "code",
   "execution_count": null,
   "id": "04bb73c6-1cd4-4e27-94ed-0973cea3351e",
   "metadata": {},
   "outputs": [],
   "source": []
  }
 ],
 "metadata": {
  "kernelspec": {
   "display_name": "Python 3 (ipykernel)",
   "language": "python",
   "name": "python3"
  },
  "language_info": {
   "codemirror_mode": {
    "name": "ipython",
    "version": 3
   },
   "file_extension": ".py",
   "mimetype": "text/x-python",
   "name": "python",
   "nbconvert_exporter": "python",
   "pygments_lexer": "ipython3",
   "version": "3.9.19"
  }
 },
 "nbformat": 4,
 "nbformat_minor": 5
}
