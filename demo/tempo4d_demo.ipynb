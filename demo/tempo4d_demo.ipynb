{
 "cells": [
  {
   "cell_type": "markdown",
   "id": "b048b9f4-c286-4ee6-abc6-369a9193daff",
   "metadata": {},
   "source": [
    "# TEMPO4D \n",
    "## (Transmission Electron Microscopy Pattern Observation-4D)\n",
    "### torch (cuda), ultralytics and rosettasciio packages required in addition to tempo4d"
   ]
  },
  {
   "cell_type": "code",
   "execution_count": 1,
   "id": "1ae69058-328d-4799-84a0-605c51878b6d",
   "metadata": {},
   "outputs": [],
   "source": [
    "import numpy as np\n",
    "%matplotlib qt\n",
    "import matplotlib.pyplot as plt\n",
    "from tempo4d import DataManager, save_data, load_data\n",
    "from tempo4d import DataProcessor\n",
    "from tempo4d.utils.data_reader import load"
   ]
  },
  {
   "cell_type": "markdown",
   "id": "740a134e-62f6-418b-80f6-6c33b32f7f1c",
   "metadata": {},
   "source": [
    "## Load 4D-STEM data\n",
    "### Supported file formats .emi, dm3, dm4, de5 and hdf5"
   ]
  },
  {
   "cell_type": "code",
   "execution_count": 2,
   "id": "3aac499d-f0b3-4a18-ab2b-6f52c2c89c11",
   "metadata": {},
   "outputs": [
    {
     "name": "stdout",
     "output_type": "stream",
     "text": [
      "Data shape : (128, 128, 256, 256)\n",
      "Pixel size (nm) : 0.173\n"
     ]
    }
   ],
   "source": [
    "path = r\"\\pathtodata\"\n",
    "data, pixel_size = load(path)"
   ]
  },
  {
   "cell_type": "markdown",
   "id": "9a125132-6b28-4799-adfb-c37295d0e86f",
   "metadata": {},
   "source": [
    "### Pad diffraction patterns to 512x512 pixels for YOLO detection if necessary for better accuracy"
   ]
  },
  {
   "cell_type": "code",
   "execution_count": 3,
   "id": "b9f5b46c-6dd2-4c52-9a15-3ec69fa1d0a8",
   "metadata": {},
   "outputs": [],
   "source": [
    "from tempo4d.utils.padding import pad_images\n",
    "padded = pad_images(data, target_shape=(512, 512))"
   ]
  },
  {
   "cell_type": "markdown",
   "id": "f0923d38-aea4-4b62-b093-b3bbb2bdcbd9",
   "metadata": {},
   "source": [
    "## Generate Virtual STEM Image \n",
    "### Currently uses the center of the diffraction patterns for virtual BF imaging"
   ]
  },
  {
   "cell_type": "code",
   "execution_count": 4,
   "id": "09962cf3-8e6d-47e0-8629-bd6c2941f61e",
   "metadata": {},
   "outputs": [],
   "source": [
    "processor = DataProcessor(padded, pixel_size=pixel_size, path_to_image=\"example.png\")\n",
    "bf_image = processor.generate_bf_image(disk_size=20)"
   ]
  },
  {
   "cell_type": "markdown",
   "id": "f41a7f7a-dc83-4628-827f-f1f418479227",
   "metadata": {},
   "source": [
    "## Test NDPD / Single Electron Diffraction Pattern"
   ]
  },
  {
   "cell_type": "code",
   "execution_count": 5,
   "id": "5e432831-24fb-426e-b6ee-5391f44390b8",
   "metadata": {},
   "outputs": [],
   "source": [
    "coords = processor.run_object_detection(\n",
    "    i=15, j=12,\n",
    "    normalize1=256, normalize2=100,\n",
    "    img_size= 512, conf_score=0.1,\n",
    "    radius=1, neighbours=8\n",
    ")"
   ]
  },
  {
   "cell_type": "markdown",
   "id": "a679ac6f-5e61-4547-9309-9766fd89f340",
   "metadata": {},
   "source": [
    "## Process 4D-STEM / RealTimePlot"
   ]
  },
  {
   "cell_type": "code",
   "execution_count": 6,
   "id": "9f896660-57c0-4cb1-b630-77fab0cf3279",
   "metadata": {},
   "outputs": [
    {
     "name": "stdout",
     "output_type": "stream",
     "text": [
      "Total time to complete plot: 65.27 seconds\n"
     ]
    }
   ],
   "source": [
    "data_strain, angles = processor.launch_realtime_plot(\n",
    "    image_size=512, h=4,\n",
    "    normalize=100, neighbours=8,\n",
    "    conf=0.1, batch_size=64\n",
    ")"
   ]
  },
  {
   "cell_type": "markdown",
   "id": "73ad6fb0-ea05-4897-92e5-19738e2a094e",
   "metadata": {},
   "source": [
    "## Analyze 4D-STEM Data \n",
    "### Please refer to Test NDPD for the indices of the Bragg discs for analysis"
   ]
  },
  {
   "cell_type": "code",
   "execution_count": 7,
   "id": "fdad4598-83d0-432c-9355-4d37e2862804",
   "metadata": {},
   "outputs": [
    {
     "name": "stdout",
     "output_type": "stream",
     "text": [
      "ROI selected from (60, 95) to (93, 120)\n",
      "new a0: 0.23749, b0: 0.23367, c0: 0.16738\n",
      "New ROI selected from (81, 31) to (101, 117)\n",
      "Precision Exx: 4.0e-03\n",
      "Precision Eyy: 1.8e-03\n",
      "Precision Exy: 1.8e-03\n",
      "Line profiles exported to: C:\\Users\\ardag\\OneDrive\\Desktop\\DiffDetect\\notebook\\strain_line_profiles.csv\n"
     ]
    }
   ],
   "source": [
    "processor.postprocess_strain(h =0, k=2, hk=4, rotation=0, axis_parm=1)"
   ]
  },
  {
   "cell_type": "markdown",
   "id": "c8103e10-0b7f-40eb-a510-148633e3cc2a",
   "metadata": {},
   "source": [
    "## Save Results"
   ]
  },
  {
   "cell_type": "code",
   "execution_count": 8,
   "id": "7b1b1784-4b0c-4d25-aafa-79ce866d6bf6",
   "metadata": {},
   "outputs": [],
   "source": [
    "filename =  r\"\\pathtodata\\.txt\"\n",
    "save_data(filename, data_strain, angles)"
   ]
  },
  {
   "cell_type": "markdown",
   "id": "ce7681dc-7c6a-47a9-85d4-beb44f5516a7",
   "metadata": {},
   "source": [
    "## Re-Load Results"
   ]
  },
  {
   "cell_type": "code",
   "execution_count": 9,
   "id": "ac4aa888-a3db-4826-bf6a-cb133c1e004f",
   "metadata": {},
   "outputs": [
    {
     "name": "stdout",
     "output_type": "stream",
     "text": [
      "Loaded distances shape: (128, 128, 8)\n",
      "Loaded angles shape: (128, 128, 8)\n"
     ]
    }
   ],
   "source": [
    "txt_path = r\"\\pathtodata\\.txt\"\n",
    "strain_load, angles_load =load_data(txt_path)"
   ]
  },
  {
   "cell_type": "markdown",
   "id": "0335360d-691b-4b0c-9279-71384f163046",
   "metadata": {},
   "source": [
    "## Analyze 4D-STEM Data "
   ]
  },
  {
   "cell_type": "code",
   "execution_count": 10,
   "id": "8cca2cc9-cbdd-4795-864d-cb30f95d7372",
   "metadata": {},
   "outputs": [
    {
     "name": "stdout",
     "output_type": "stream",
     "text": [
      "ROI selected from (72, 99) to (91, 117)\n",
      "new a0: 0.16729, b0: 0.16474, c0: 0.23720\n"
     ]
    }
   ],
   "source": [
    "processor = DataProcessor(\n",
    "    pixel_size=0.01,\n",
    "    path_to_image=\"LargeFOV_scan.jpg\",\n",
    "    nearest_distance_values=strain_load,\n",
    "    angles=angles_load\n",
    ")\n",
    "\n",
    "processor.postprocess_strain(h=4, k=7, hk=0, rotation=4, axis_parm=1)"
   ]
  },
  {
   "cell_type": "code",
   "execution_count": null,
   "id": "04bb73c6-1cd4-4e27-94ed-0973cea3351e",
   "metadata": {},
   "outputs": [],
   "source": []
  }
 ],
 "metadata": {
  "kernelspec": {
   "display_name": "Python 3 (ipykernel)",
   "language": "python",
   "name": "python3"
  },
  "language_info": {
   "codemirror_mode": {
    "name": "ipython",
    "version": 3
   },
   "file_extension": ".py",
   "mimetype": "text/x-python",
   "name": "python",
   "nbconvert_exporter": "python",
   "pygments_lexer": "ipython3",
   "version": "3.9.19"
  }
 },
 "nbformat": 4,
 "nbformat_minor": 5
}
